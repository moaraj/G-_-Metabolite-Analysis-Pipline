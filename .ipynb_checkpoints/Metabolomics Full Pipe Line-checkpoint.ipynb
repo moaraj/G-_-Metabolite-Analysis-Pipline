{
 "cells": [
  {
   "cell_type": "markdown",
   "metadata": {},
   "source": [
    "title: \"Tree.Classificaiton\"\n",
    "output: html_document"
   ]
  },
  {
   "cell_type": "code",
   "execution_count": null,
   "metadata": {},
   "outputs": [
    {
     "name": "stderr",
     "output_type": "stream",
     "text": [
      "also installing the dependency 'earth'\n",
      "\n"
     ]
    },
    {
     "name": "stdout",
     "output_type": "stream",
     "text": [
      "package 'earth' successfully unpacked and MD5 sums checked\n",
      "package 'rpart.plot' successfully unpacked and MD5 sums checked\n",
      "\n",
      "The downloaded binary packages are in\n",
      "\tC:\\Users\\Moaraj\\AppData\\Local\\Temp\\Rtmp4MX26g\\downloaded_packages\n"
     ]
    },
    {
     "name": "stderr",
     "output_type": "stream",
     "text": [
      "also installing the dependencies 'Formula', 'partykit', 'C50', 'gbm', 'neuralnet'\n",
      "\n"
     ]
    },
    {
     "name": "stdout",
     "output_type": "stream",
     "text": [
      "package 'Formula' successfully unpacked and MD5 sums checked\n",
      "package 'partykit' successfully unpacked and MD5 sums checked\n",
      "package 'C50' successfully unpacked and MD5 sums checked\n",
      "package 'gbm' successfully unpacked and MD5 sums checked\n",
      "package 'neuralnet' successfully unpacked and MD5 sums checked\n",
      "package 'plotmo' successfully unpacked and MD5 sums checked\n",
      "\n",
      "The downloaded binary packages are in\n",
      "\tC:\\Users\\Moaraj\\AppData\\Local\\Temp\\Rtmp4MX26g\\downloaded_packages\n"
     ]
    },
    {
     "name": "stderr",
     "output_type": "stream",
     "text": [
      "Warning message:\n",
      "\"dependencies 'RGtk2', 'graph', 'RBGL', 'pkgDepTools', 'Rgraphviz' are not available\"also installing the dependencies 'whisker', 'pkgmaker', 'rngtools', 'doParallel', 'TH.data', 'lmtest', 'TSP', 'qap', 'gclus', 'dendextend', 'registry', 'NMF', 'irlba', 'ggplot2', 'viridisLite', 'crosstalk', 'DEoptimR', 'checkmate', 'multcomp', 'spam', 'scatterplot3d', 'vcd', 'seriation', 'igraph', 'DT', 'plotly', 'flexclust', 'proxy', 'timeSeries', 'gss', 'stabledist', 'mclust', 'flexmix', 'prabclus', 'diptest', 'mvtnorm', 'robustbase', 'trimcluster', 'gWidgets', 'latticeExtra', 'acepack', 'htmlTable', 'viridis', 'modeltools', 'strucchange', 'coin', 'sandwich', 'gridBase', 'NLP', 'slam', 'fields', 'CircStats', 'dtw', 'clv', 'pmml', 'ada', 'amap', 'arules', 'arulesViz', 'biclust', 'cairoDevice', 'cba', 'corrplot', 'descr', 'doBy', 'e1071', 'ellipse', 'fBasics', 'fpc', 'gdata', 'ggdendro', 'gplots', 'gridExtra', 'gtools', 'gWidgetsRGtk2', 'hmeasure', 'Hmisc', 'kernlab', 'mice', 'odfWeave', 'party', 'playwith', 'reshape', 'rggobi', 'RGtk2Extras', 'ROCR', 'RODBC', 'SnowballC', 'timeDate', 'tm', 'verification', 'wskm', 'XML'\n",
      "\n"
     ]
    }
   ],
   "source": [
    "install.packages('rpart.plot', repos='http://cran.us.r-project.org',dependencies = TRUE)\n",
    "install.packages('plotmo', repos='http://cran.us.r-project.org', dependencies = TRUE)\n",
    "install.packages('rattle', repos='http://cran.us.r-project.org', dependencies = TRUE)"
   ]
  },
  {
   "cell_type": "code",
   "execution_count": null,
   "metadata": {},
   "outputs": [],
   "source": [
    "library(rpart.plot)\n",
    "library(rpart)\n",
    "library(plotmo)\n",
    "library(lattice)\n",
    "library(rattle)"
   ]
  },
  {
   "cell_type": "code",
   "execution_count": null,
   "metadata": {
    "collapsed": true
   },
   "outputs": [],
   "source": [
    "```{r}\n",
    "tree.data <- metab_data4[,c(8,12:ncol(metab_data4))]\n",
    "tree.data <- tree.data %>% filter(Diet %in% c(\"CD\",\"HF\")) %>% select(-one_of(\"Allyl.isothiocyanate\"))\n",
    "f.rp  <- rpart(Diet ~ ., data=tree.data)\n",
    "prp(f.rp, type = 3, extra = 3)\n",
    "\n",
    "\n",
    "## slightly larger than default:\n",
    "(f.rp2 <- rpart(Diet ~ ., data=tree.data, minsplit = 8, cp = .1))\n",
    "prp(f.rp2, type=1, extra=3, box.col = f.rp2$y)\n",
    "\n",
    "(f.rp3 <- rpart(Diet ~ ., data=tree.data, minsplit = 8, cp = .01))\n",
    "prp(f.rp3, type=1, extra=3,box.col = f.rp3$y)\n",
    "\n",
    "(f.rp4 <- rpart(Diet ~ ., data=tree.data, minsplit = 8, cp = .001))\n",
    "prp(f.rp4, type=1, extra=3,box.col = f.rp4$y)\n",
    "\n",
    "(f.rp5 <- rpart(Diet ~ ., data=tree.data, minsplit = 8, cp = .0001))\n",
    "prp(f.rp5, type=1, extra=3)\n",
    "\n",
    "fancyRpartPlot(f.rp2)\n",
    "fancyRpartPlot(f.rp3)\n",
    "fancyRpartPlot(f.rp4)\n",
    "fancyRpartPlot(f.rp5)\n",
    "\n",
    "## For Cp-plot, we want a more \"interesting\" (larger) example\n",
    "plotcp(f.rp2) \n",
    "plotcp(f.rp3) \n",
    "plotcp(f.rp4)"
   ]
  },
  {
   "cell_type": "code",
   "execution_count": null,
   "metadata": {
    "collapsed": true
   },
   "outputs": [],
   "source": [
    "# silly too large model\n",
    "f.rp.age <- rpart(Diet ~ ., data = tree.data,\n",
    "               control = rpart.control(minsplit = 5, cp=0))\n",
    "\n",
    "tree.data <- metab_data4[,c(8,11,12:ncol(metab_data4))]\n",
    "tree.data <- filter(tree.data, Age.Cohort %in% c(1:4))  %>% filter(Diet == \"CD\")\n",
    "f.rp.age.0  <- rpart(Age.Cohort ~ ., data=tree.data)\n",
    "\n",
    "prp(f.rp)"
   ]
  },
  {
   "cell_type": "code",
   "execution_count": null,
   "metadata": {
    "collapsed": true
   },
   "outputs": [],
   "source": [
    "## slightly larger than default:\n",
    "(f.rp2.age.1 <- rpart(Age.Cohort ~ ., data=tree.data, minsplit = 4, cp = .1))\n",
    "prp(f.rp2.age.1, type=3, extra=3)\n",
    "\n",
    "(f.rp2.age.2 <- rpart(Age.Cohort ~ ., data=tree.data, minsplit = 4, cp = .01))\n",
    "prp(f.rp2.age.2, type=3, extra=3)\n",
    "\n",
    "(f.rp2.age.3 <- rpart(Age.Cohort ~ ., data=tree.data, minsplit = 4, cp = .001))\n",
    "prp(f.rp2.age.3, type=3, extra=3)"
   ]
  },
  {
   "cell_type": "code",
   "execution_count": null,
   "metadata": {
    "collapsed": true
   },
   "outputs": [],
   "source": [
    "## For Cp-plot, we want a more \"interesting\" (larger) example\n",
    "plotcp(f.rp) #\n",
    "plotcp(f.rp2) "
   ]
  },
  {
   "cell_type": "code",
   "execution_count": null,
   "metadata": {
    "collapsed": true
   },
   "outputs": [],
   "source": [
    "# PARTY package\n",
    "```{r}\n",
    "library(party)\n",
    "\n",
    "frmla = Diet ~ .\n",
    " \n",
    "(ct = ctree(frmla, data = tree.data))\n",
    "plot(ct, main=\"Conditional Inference Tree\")\n",
    " \n",
    "#Table of prediction errors\n",
    "table(predict(ct), raw$Metal)\n",
    " \n",
    "# Estimated class probabilities\n",
    "tr.pred = predict(ct, newdata=raw, type=\"prob\")"
   ]
  },
  {
   "cell_type": "code",
   "execution_count": null,
   "metadata": {
    "collapsed": true
   },
   "outputs": [],
   "source": [
    "# MAPTREE\n",
    "```{r}\n",
    "library(maptree)\n",
    "library(cluster)\n",
    "draw.tree( clip.rpart (rpart ( tree.data), best=7),\n",
    "nodeinfo=TRUE, units=\"species\",\n",
    "cases=\"cells\", digits=0)\n",
    "a = agnes ( raw[2:4], method=\"ward\" )\n",
    "names(a)\n",
    "a$diss\n",
    "b = kgs (a, a$diss, maxclust=20)\n",
    " \n",
    "plot(names(b), b, xlab=\"# clusters\", ylab=\"penalty\", type=\"n\")\n",
    "xloc = names(b)[b==min(b)]\n",
    "yloc = min(b)\n",
    "ngon(c(xloc,yloc+.75,10, \"dark green\"), angle=180, n=3)\n",
    "apply(cbind(names(b), b, 3, 'blue'), 1, ngon, 4) # cbind(x,y,size,color)\n",
    "```\n",
    "\n",
    "\n",
    "\n",
    "```\n",
    "\n",
    "\n",
    "\n",
    "\n",
    "\n",
    "```\n",
    "\n",
    "\n",
    "\n",
    "```\n",
    "\n",
    "\n"
   ]
  },
  {
   "cell_type": "code",
   "execution_count": null,
   "metadata": {
    "collapsed": true
   },
   "outputs": [],
   "source": [
    "## EVTREE (Evoluationary Learning)\n",
    "```{r}\n",
    "library(evtree)\n",
    " \n",
    "ev.raw = evtree(frmla, data=tree.data)\n",
    "plot(ev.raw)\n",
    "table(predict(ev.raw), raw$Metal)\n",
    "1-mean(predict(ev.raw) == raw$Metal)"
   ]
  },
  {
   "cell_type": "code",
   "execution_count": null,
   "metadata": {
    "collapsed": true
   },
   "outputs": [],
   "source": [
    "## randomForest\n",
    "```{r}\n",
    "library(randomForest)\n",
    "tree.data[1] <- droplevels(tree.data[1])\n",
    "\n",
    "tree.data.train <- tree.data[1:nrow(tree.data)/2,]\n",
    "tree.data.test <- tree.data[ (nrow(tree.data)/2 + 1) : nrow(tree.data),]\n",
    "\n",
    "fit.rf = randomForest(data=tree.data.train, Diet ~ ., ntree=1000, proximity=TRUE)\n",
    "print(fit.rf)\n",
    "importance(fit.rf)\n",
    "plot(fit.rf)\n",
    "\n",
    "varImpPlot(fit.rf)\n",
    "\n",
    "\n",
    "\n",
    "plot( importance(fit.rf), lty=2, pch=16)\n",
    "lines(importance(fit.rf))\n",
    "imp = importance(fit.rf)\n",
    "impvar = rownames(imp)[order(imp[, 1], decreasing=TRUE)]\n",
    "op = par(mfrow=c(1, 3))\n",
    "\n",
    "for (i in seq_along(impvar)) {\n",
    "partialPlot(fit.rf, tree.data, impvar[i], xlab=impvar[i],\n",
    "main=paste(\"Partial Dependence on\", impvar[i]),\n",
    "ylim=c(0, 1))\n",
    "}\n",
    "\n",
    "\n",
    "Pred.rf <-predict(fit.rf,newdata=tree.data.test)\n",
    "table(Pred.rf, tree.data.test$Diet)\n",
    "\n",
    "plot(randomForest::margin(fit.rf, tree.data.test$Diet))\n",
    "\n",
    "\n",
    "tune.rf <- tuneRF(tree.data.train[,-5],tree.data.train[,5], stepFactor=0.5)\n",
    "print(tune.rf)"
   ]
  },
  {
   "cell_type": "code",
   "execution_count": null,
   "metadata": {
    "collapsed": true
   },
   "outputs": [],
   "source": [
    "## CORElearn\n",
    "```{r} \n",
    "library(CORElearn)\n",
    "## Random Forests\n",
    "fit.rand.forest = CoreModel(frmla, data=tree.data, model=\"rf\", selectionEstimator=\"MDL\", minNodeWeightRF=5, rfNoTrees=100)\n",
    "plot(fit.rand.forest)\n",
    " \n",
    "## decision tree with naive Bayes in the leaves\n",
    "fit.dt = CoreModel(frmla, tree.data, model=\"tree\", modelType=4)\n",
    "plot(fit.dt, tree.data)\n",
    " \n",
    "fit.rt = CoreModel(Diet~., tree.data, model=\"regTree\", modelTypeReg=1)\n",
    "summary(fit.rt)\n",
    "\n",
    "plot(fit.rt, tree.data, graphType=\"prototypes\")\n",
    " \n",
    "pred = predict(fit.dt, tree.data)\n",
    "print(pred)\n",
    "plot(pred$class)"
   ]
  },
  {
   "cell_type": "code",
   "execution_count": null,
   "metadata": {
    "collapsed": true
   },
   "outputs": [],
   "source": [
    "# Logisitical Regression\n",
    "```{r}\n",
    "\n",
    "logreg.data.train <- tree.data[1:nrow(tree.data)/2,]\n",
    "logreg.data.test <- tree.data[ (nrow(tree.data)/2 + 1) : nrow(tree.data),]\n",
    "\n",
    "model <- glm(Diet ~.,family=binomial(link='logit'),data=logreg.data.train[1:10])\n",
    "model <- glm(Diet ~.,logreg.data.train)\n",
    "\n",
    "summary(model)\n",
    "\n",
    "anova(model, test=\"Chisq\")\n",
    "\n",
    "library(pscl)\n",
    "pR2(model)\n",
    "\n",
    "fitted.results <- predict(model,newdata=logreg.data.test[2:10],type='response')\n",
    "fitted.results <- ifelse(fitted.results > 0.5,1,0)\n",
    "\n",
    "misClasificError <- mean(fitted.results != logreg.data.test$Diet)\n",
    "print(paste('Accuracy',1-misClasificError))\n",
    "\n",
    "\n",
    "library(ROCR)\n",
    "p <- predict(model, newdata=logreg.data.test, type=\"response\")\n",
    "pr <- prediction(p, logreg.data.test$Diet)\n",
    "prf <- performance(pr, measure = \"tpr\", x.measure = \"fpr\")\n",
    "plot(prf)\n",
    "\n",
    "\n",
    "auc <- performance(pr, measure = \"auc\")\n",
    "auc <- auc@y.values[[1]]\n",
    "auc\n",
    "```\n"
   ]
  },
  {
   "cell_type": "code",
   "execution_count": null,
   "metadata": {
    "collapsed": true
   },
   "outputs": [],
   "source": []
  }
 ],
 "metadata": {
  "kernelspec": {
   "display_name": "R",
   "language": "R",
   "name": "ir"
  },
  "language_info": {
   "codemirror_mode": "r",
   "file_extension": ".r",
   "mimetype": "text/x-r-source",
   "name": "R",
   "pygments_lexer": "r",
   "version": "3.3.2"
  }
 },
 "nbformat": 4,
 "nbformat_minor": 2
}
